{
 "cells": [
  {
   "cell_type": "code",
   "execution_count": null,
   "id": "d9de825a",
   "metadata": {},
   "outputs": [],
   "source": []
  },
  {
   "cell_type": "code",
   "execution_count": 3,
   "id": "0ffdffb2",
   "metadata": {},
   "outputs": [],
   "source": [
    "import requests\n",
    "import sagemaker\n",
    "import boto3\n",
    "import s3fs\n",
    "import json\n",
    "import io\n",
    "\n",
    "import numpy as np\n",
    "\n",
    "from sklearn.model_selection import train_test_split\n",
    "from sklearn.metrics import r2_score\n",
    "\n",
    "from sagemaker.estimator import Estimator\n",
    "from sagemaker.predictor import Predictor\n",
    "from sagemaker.serializers import NumpySerializer\n",
    "from sagemaker.deserializers import NumpyDeserializer\n",
    "from sagemaker.local import LocalSession\n",
    "\n",
    "from matplotlib import pyplot as plt\n",
    "import matplotlib as mpl\n",
    "import seaborn as sns"
   ]
  },
  {
   "cell_type": "code",
   "execution_count": null,
   "id": "790bd58d",
   "metadata": {},
   "outputs": [],
   "source": []
  },
  {
   "cell_type": "code",
   "execution_count": null,
   "id": "4278d3f9",
   "metadata": {},
   "outputs": [],
   "source": [
    "%matplotlib inline\n",
    "sns.set()\n",
    "\n",
    "seed = 42\n",
    "rand = np.random.RandomState(seed)\n",
    "\n",
    "local_mode = False # activate to use local mode\n",
    "\n",
    "with open(\"config.json\") as f:\n",
    "    configs = json.load(f)\n",
    "    \n",
    "default_bucket = configs[\"default_bucket\"] #bucket name here\n",
    "role = configs[\"role_arn\"] # sagemaker role arn here\n",
    "\n",
    "boto_session = boto3.Session()\n",
    "   \n",
    "if local_mode:\n",
    "    sagemaker_session = LocalSession(boto_session = boto_session)\n",
    "    sagemaker_session._default_bucket = default_bucket\n",
    "else:\n",
    "    sagemaker_session = sagemaker.Session(\n",
    "        boto_session = boto_session,\n",
    "        default_bucket = default_bucket\n",
    "    )\n",
    "\n",
    "ecr_image = configs[\"image_arn\"] #image uri from ECR here\n",
    "\n",
    "prefix = \"modeling/sagemaker\"\n",
    "\n",
    "data_name = f\"anomaly\"\n",
    "test_name = \"adb-poc\"   "
   ]
  },
  {
   "cell_type": "code",
   "execution_count": null,
   "id": "fcc85742",
   "metadata": {},
   "outputs": [],
   "source": []
  },
  {
   "cell_type": "code",
   "execution_count": null,
   "id": "72e4b673",
   "metadata": {},
   "outputs": [],
   "source": [
    "def get_s3fs():\n",
    "    return s3fs.S3FileSystem(key = boto_session.get_credentials().access_key,\n",
    "                             secret = boto_session.get_credentials().secret_key,\n",
    "                             token = boto_session.get_credentials().token)\n",
    "\n",
    "def plot_and_clear():\n",
    "    plt.show()\n",
    "    plt.clf()\n",
    "    plt.cla()\n",
    "    plt.close()"
   ]
  },
  {
   "cell_type": "code",
   "execution_count": null,
   "id": "afc08fec",
   "metadata": {},
   "outputs": [],
   "source": []
  },
  {
   "cell_type": "code",
   "execution_count": null,
   "id": "349ad077",
   "metadata": {},
   "outputs": [],
   "source": [
    "\n",
    "r = requests.get(url)\n",
    "\n",
    "y, x = np.loadtxt(\n",
    "    io.StringIO(r.text[r.text.index(\"Data:   y          x\"):]), \n",
    "    skiprows=1, unpack=True\n",
    ")\n",
    "\n",
    "x = x.reshape(-1, 1)\n",
    "\n",
    "X_train, X_test, y_train, y_test = train_test_split(\n",
    "    x, y, test_size = 0.25, \n",
    "    random_state = rand\n",
    ")"
   ]
  },
  {
   "cell_type": "code",
   "execution_count": null,
   "id": "33cac594",
   "metadata": {},
   "outputs": [],
   "source": []
  },
  {
   "cell_type": "code",
   "execution_count": null,
   "id": "e8a19de5",
   "metadata": {},
   "outputs": [],
   "source": [
    "file_fn = f\"{default_bucket}/{prefix}/{data_name}/train/data.csv\"\n",
    "file_path = f\"s3://{file_fn}\"\n",
    "\n",
    "s3 = get_s3fs()\n",
    "with s3.open(file_fn, 'wb') as f:\n",
    "    np.savetxt(f, np.c_[X_train, y_train], delimiter = ',')"
   ]
  },
  {
   "cell_type": "code",
   "execution_count": null,
   "id": "5e7f8962",
   "metadata": {},
   "outputs": [],
   "source": []
  },
  {
   "cell_type": "code",
   "execution_count": null,
   "id": "be89c19d",
   "metadata": {},
   "outputs": [],
   "source": [
    "hyperparameters = {\n",
    "    \"train-file\": \"data.csv\",\n",
    "    \"df\": \"20\"\n",
    "}\n",
    "\n",
    "data_channels = {\n",
    "    \"train\": file_path\n",
    "}\n",
    "\n",
    "estimator = Estimator(\n",
    "    role = role,\n",
    "    sagemaker_session = sagemaker_session,\n",
    "    instance_count = 1,\n",
    "    instance_type = \"local\" if local_mode else \"ml.m5.large\",\n",
    "    image_uri = ecr_image,\n",
    "    base_job_name = f'{data_name}-{test_name}',\n",
    "    hyperparameters = hyperparameters,\n",
    "    output_path = f\"s3://{default_bucket}/{prefix}/{data_name}/model\"\n",
    ")\n",
    "\n",
    "estimator.fit(data_channels, wait = True, logs = \"None\")\n",
    "job_name = estimator.latest_training_job.name\n",
    "print(job_name)"
   ]
  }
 ],
 "metadata": {
  "kernelspec": {
   "display_name": "Python 3 (ipykernel)",
   "language": "python",
   "name": "python3"
  },
  "language_info": {
   "codemirror_mode": {
    "name": "ipython",
    "version": 3
   },
   "file_extension": ".py",
   "mimetype": "text/x-python",
   "name": "python",
   "nbconvert_exporter": "python",
   "pygments_lexer": "ipython3",
   "version": "3.9.13"
  }
 },
 "nbformat": 4,
 "nbformat_minor": 5
}
